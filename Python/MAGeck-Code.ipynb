{
 "cells": [
  {
   "cell_type": "markdown",
   "id": "7e2f6724",
   "metadata": {},
   "source": [
    "# MAGeCK CRISPR Screen Analysis\n",
    "\n",
    "This notebook demonstrates how to perform gene essentiality and enrichment analysis using the MAGeCK pipeline. The CRISPR screen dataset contains samples collected at multiple time points and cultivation formats, enabling:\n",
    "\n",
    "- Differential hit calling across 2, 4, and 6-week time points.\n",
    "- Comparison between cultivation strategies (Perfusion vs. Shake-Flask).\n",
    "- Use of MAGeCK's `alphamean` method for more robust log2 fold change calculations.\n",
    "\n",
    "**Main Objectives:**\n",
    "- Identify gene depletions and enrichments using different comparison setups.\n",
    "- Export normalized read counts for downstream visualization.\n",
    "- Generate gene-level statistics for further biological interpretation.\n",
    "\n",
    "---\n",
    "\n",
    "## Input Data\n",
    "\n",
    "- `Count_Table.txt`: Raw read count table across all samples.\n",
    "- `Plasmid`: Control condition representing plasmid library baseline.\n",
    "\n",
    "---\n",
    "\n",
    "## Output\n",
    "\n",
    "All MAGeCK results, including normalized counts and gene-level statistics, will be saved to the `output_data/` directory under structured subfolders.\n",
    "\n",
    "---\n",
    "\n",
    "### **Execution Commands**\n",
    "\n",
    "Ensure MAGeCK is installed before running:\n",
    "```bash\n",
    "pip install mageck\n"
   ]
  },
  {
   "cell_type": "markdown",
   "id": "e07a87c2",
   "metadata": {},
   "source": [
    "\n",
    "---\n",
    "\n",
    "### 📄 **Polished MAGeCK Command Script (Code Cell)**\n",
    "\n",
    "```bash\n",
    "# =============================\n",
    "# MAGeCK CRISPR Screen Analysis\n",
    "# =============================\n",
    "\n",
    "# Example use for Combined Time Point Analysis (Time-Replicates: 2w, 4w, 6w)\n",
    "mageck test -k Count_Table.txt \\\n",
    "    -t S13.P1.t2w,S10.P2.t2w,S11.P3.t2w,S12.P4.t2w,S38.P1.t4w,S35.P2.t4w,S36.P3.t4w,S37.P4.t4w,S45.P1.t6w,S42.P2.t6w,S43.P3.t6w,S44.P4.t6w \\\n",
    "    -c Plasmid \\\n",
    "    -n output_data/MAGeCKpseudoreplicates \\\n",
    "    --normcounts-to-file \\\n",
    "    --gene-lfc-method alphamean\n"
   ]
  }
 ],
 "metadata": {
  "language_info": {
   "name": "python"
  }
 },
 "nbformat": 4,
 "nbformat_minor": 5
}
